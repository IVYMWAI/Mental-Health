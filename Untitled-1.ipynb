{
 "cells": [
  {
   "cell_type": "code",
   "execution_count": 1,
   "metadata": {},
   "outputs": [],
   "source": [
    "#importing the necesssary python libraries\n",
    "import pandas as pd\n",
    "import numpy as np\n",
    "from sklearn.model_selection import train_test_split\n",
    "from sklearn.preprocessing import StandardScaler\n",
    "from sklearn.ensemble import RandomForestClassifier\n",
    "from sklearn.datasets import load_iris"
   ]
  },
  {
   "cell_type": "code",
   "execution_count": 5,
   "metadata": {},
   "outputs": [
    {
     "name": "stdout",
     "output_type": "stream",
     "text": [
      "                         Indicator              Group          State  \\\n",
      "0  Symptoms of Depressive Disorder  National Estimate  United States   \n",
      "1  Symptoms of Depressive Disorder             By Age  United States   \n",
      "2  Symptoms of Depressive Disorder             By Age  United States   \n",
      "3  Symptoms of Depressive Disorder             By Age  United States   \n",
      "4  Symptoms of Depressive Disorder             By Age  United States   \n",
      "\n",
      "        Subgroup Phase  Time Period     Time Period Label  \\\n",
      "0  United States     1            1  Apr 23 - May 5, 2020   \n",
      "1  18 - 29 years     1            1  Apr 23 - May 5, 2020   \n",
      "2  30 - 39 years     1            1  Apr 23 - May 5, 2020   \n",
      "3  40 - 49 years     1            1  Apr 23 - May 5, 2020   \n",
      "4  50 - 59 years     1            1  Apr 23 - May 5, 2020   \n",
      "\n",
      "  Time Period Start Date Time Period End Date  Value  Low CI  High CI  \\\n",
      "0             04/23/2020           05/05/2020   23.5    22.7     24.3   \n",
      "1             04/23/2020           05/05/2020   32.7    30.2     35.2   \n",
      "2             04/23/2020           05/05/2020   25.7    24.1     27.3   \n",
      "3             04/23/2020           05/05/2020   24.8    23.3     26.2   \n",
      "4             04/23/2020           05/05/2020   23.2    21.5     25.0   \n",
      "\n",
      "  Confidence Interval Quartile Range  \n",
      "0         22.7 - 24.3            NaN  \n",
      "1         30.2 - 35.2            NaN  \n",
      "2         24.1 - 27.3            NaN  \n",
      "3         23.3 - 26.2            NaN  \n",
      "4         21.5 - 25.0            NaN  \n"
     ]
    }
   ],
   "source": [
    "#reading  the dataset\n",
    "df=pd.read_csv(\"C:\\\\Users\\\\USER\\\\OneDrive\\\\Documents\\\\Mental Health\\\\Indicators_of_Anxiety_or_Depression_Based_on_Reported_Frequency_of_Symptoms_During_Last_7_Days.csv\")\n",
    "print(df.head())"
   ]
  },
  {
   "cell_type": "code",
   "execution_count": null,
   "metadata": {},
   "outputs": [],
   "source": []
  }
 ],
 "metadata": {
  "kernelspec": {
   "display_name": "Python 3",
   "language": "python",
   "name": "python3"
  },
  "language_info": {
   "codemirror_mode": {
    "name": "ipython",
    "version": 3
   },
   "file_extension": ".py",
   "mimetype": "text/x-python",
   "name": "python",
   "nbconvert_exporter": "python",
   "pygments_lexer": "ipython3",
   "version": "3.11.4"
  }
 },
 "nbformat": 4,
 "nbformat_minor": 2
}
